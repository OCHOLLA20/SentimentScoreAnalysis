{
 "cells": [
  {
   "cell_type": "code",
   "execution_count": 1,
   "metadata": {},
   "outputs": [],
   "source": [
    "# Importing necessary libraries\n",
    "import pandas as pd  \n",
    "import numpy as np  \n",
    "import matplotlib.pyplot as plt  \n",
    "import seaborn as sns  \n",
    "\n",
    "# Setting the style for matplotlib plots to 'ggplot'\n",
    "plt.style.use('ggplot')\n",
    "\n",
    "# Importing the Natural Language Toolkit (nltk) library\n",
    "import nltk  "
   ]
  },
  {
   "cell_type": "code",
   "execution_count": 2,
   "metadata": {},
   "outputs": [
    {
     "name": "stdout",
     "output_type": "stream",
     "text": [
      "   rating                                      title  \\\n",
      "0     5.0  Such a lovely scent but not overpowering.   \n",
      "1     4.0     Works great but smells a little weird.   \n",
      "2     5.0                                       Yes!   \n",
      "3     1.0                          Synthetic feeling   \n",
      "4     5.0                                         A+   \n",
      "\n",
      "                                                text images        asin  \\\n",
      "0  This spray is really nice. It smells really go...     []  B00YQ6X8EO   \n",
      "1  This product does what I need it to do, I just...     []  B081TJ8YS3   \n",
      "2                          Smells good, feels great!     []  B07PNNCSP9   \n",
      "3                                     Felt synthetic     []  B09JS339BZ   \n",
      "4                                            Love it     []  B08BZ63GMJ   \n",
      "\n",
      "  parent_asin                       user_id      timestamp  helpful_vote  \\\n",
      "0  B00YQ6X8EO  AGKHLEW2SOWHNMFQIJGBECAF7INQ  1588687728923             0   \n",
      "1  B081TJ8YS3  AGKHLEW2SOWHNMFQIJGBECAF7INQ  1588615855070             1   \n",
      "2  B097R46CSY  AE74DYR3QUGVPZJ3P7RFWBGIX7XQ  1589665266052             2   \n",
      "3  B09JS339BZ  AFQLNQNQYFWQZPJQZS6V3NZU4QBQ  1643393630220             0   \n",
      "4  B08BZ63GMJ  AFQLNQNQYFWQZPJQZS6V3NZU4QBQ  1609322563534             0   \n",
      "\n",
      "   verified_purchase  \n",
      "0               True  \n",
      "1               True  \n",
      "2               True  \n",
      "3               True  \n",
      "4               True  \n",
      "(701528, 10)\n"
     ]
    }
   ],
   "source": [
    "from datasets import load_dataset\n",
    "\n",
    "# Load the dataset\n",
    "dataset = load_dataset(\"McAuley-Lab/Amazon-Reviews-2023\", \"raw_review_All_Beauty\", trust_remote_code=True)\n",
    "\n",
    "# Convert to DataFrame\n",
    "df = dataset['full'].to_pandas()\n",
    "\n",
    "# Print the first few rows of the DataFrame\n",
    "print(df.head())\n",
    "\n",
    "# Print the shape of the DataFrame\n",
    "print(df.shape)"
   ]
  },
  {
   "cell_type": "code",
   "execution_count": 3,
   "metadata": {},
   "outputs": [
    {
     "data": {
      "image/png": "[encoded data removed]",
      "text/plain": [
       "<Figure size 1000x600 with 1 Axes>"
      ]
     },
     "metadata": {},
     "output_type": "display_data"
    }
   ],
   "source": [
    "# Perform value counts on the 'rating' column\n",
    "rating_counts = df['rating'].value_counts().sort_index()\n",
    "\n",
    "# Plot the value counts\n",
    "plt.figure(figsize=(10, 6))\n",
    "rating_counts.plot(kind='bar')\n",
    "plt.title('Distribution of Ratings')\n",
    "plt.xlabel('Rating')\n",
    "plt.ylabel('Count')\n",
    "plt.show()"
   ]
  },
  {
   "cell_type": "code",
   "execution_count": 4,
   "metadata": {},
   "outputs": [
    {
     "name": "stdout",
     "output_type": "stream",
     "text": [
      "Original Text: Great multi pack of bands for a great price. They wash well in the laundry and don't lose any elasticity\n",
      "Lowercased Text: great multi pack of bands for a great price. they wash well in the laundry and don't lose any elasticity\n"
     ]
    }
   ],
   "source": [
    "# Example text\n",
    "example = df['text'][50]\n",
    "print(\"Original Text:\", example)\n",
    "\n",
    "# Convert to lowercase\n",
    "lowercased_text = example.lower()\n",
    "print(\"Lowercased Text:\", lowercased_text)"
   ]
  },
  {
   "cell_type": "code",
   "execution_count": 5,
   "metadata": {},
   "outputs": [
    {
     "name": "stdout",
     "output_type": "stream",
     "text": [
      "(5, 75)\n",
      "['am' 'an' 'and' 'be' 'brands' 'but' 'chemicals' 'coconut' 'coffee'\n",
      " 'comparing' 'described' 'did' 'do' 'does' 'feels' 'felt' 'fine' 'get'\n",
      " 'goes' 'gonna' 'good' 'granted' 'great' 'had' 'hair' 'have' 'having'\n",
      " 'head' 'hoping' 'is' 'it' 'just' 'know' 'light' 'like' 'lot' 'love'\n",
      " 'medium' 'my' 'need' 'nice' 'odorless' 'of' 'offputting' 'on' 'or'\n",
      " 'orange' 'other' 'product' 'really' 'say' 'smell' 'smells' 'so' 'soft'\n",
      " 'spray' 'stick' 'synthetic' 'texture' 'the' 'thickness' 'this' 'though'\n",
      " 'to' 'trick' 'try' 'want' 'was' 'what' 'will' 'wish' 'with' 'would' 'you'\n",
      " 'yucky']\n"
     ]
    }
   ],
   "source": [
    "# Import CountVectorizer\n",
    "from sklearn.feature_extraction.text import CountVectorizer\n",
    "\n",
    "# Extract the text column for analysis\n",
    "cleaned_texts = [\n",
    "\"This spray is really nice. It smells really good, goes on really fine, and does the trick. I will say it feels like you need a lot of it though to get the texture I want. I have a lot of hair, medium thickness. I am comparing to other brands with yucky chemicals so I'm gonna stick with this. Try it!\",\n",
    "\"This product does what I need it to do, I just wish it was odorless or had a soft coconut smell. Having my head smell like an orange coffee is offputting. (granted, I did know the smell was described but I was hoping it would be light)\",\n",
    "\"Smells good, feels great!\",\n",
    "\"Felt synthetic\",\n",
    "\"Love it\"\n",
    "]\n",
    "\n",
    "# Initialize CountVectorizer with a limited vocabulary\n",
    "vectorizer = CountVectorizer(max_features=1000)\n",
    "\n",
    "# Fit and transform the cleaned text data\n",
    "X = vectorizer.fit_transform(cleaned_texts)\n",
    "\n",
    "# Print the shape of the sparse matrix\n",
    "print(X.shape)\n",
    "\n",
    "# Print feature names\n",
    "print(vectorizer.get_feature_names_out())\n"
   ]
  },
  {
   "cell_type": "code",
   "execution_count": 6,
   "metadata": {},
   "outputs": [
    {
     "name": "stdout",
     "output_type": "stream",
     "text": [
      "   Id  rating                                      title  \\\n",
      "0   1     5.0  Such a lovely scent but not overpowering.   \n",
      "1   2     4.0     Works great but smells a little weird.   \n",
      "2   3     5.0                                       Yes!   \n",
      "3   4     1.0                          Synthetic feeling   \n",
      "4   5     5.0                                         A+   \n",
      "\n",
      "                                                text images        asin  \\\n",
      "0  This spray is really nice. It smells really go...     []  B00YQ6X8EO   \n",
      "1  This product does what I need it to do, I just...     []  B081TJ8YS3   \n",
      "2                          Smells good, feels great!     []  B07PNNCSP9   \n",
      "3                                     Felt synthetic     []  B09JS339BZ   \n",
      "4                                            Love it     []  B08BZ63GMJ   \n",
      "\n",
      "  parent_asin                       user_id      timestamp  helpful_vote  \\\n",
      "0  B00YQ6X8EO  AGKHLEW2SOWHNMFQIJGBECAF7INQ  1588687728923             0   \n",
      "1  B081TJ8YS3  AGKHLEW2SOWHNMFQIJGBECAF7INQ  1588615855070             1   \n",
      "2  B097R46CSY  AE74DYR3QUGVPZJ3P7RFWBGIX7XQ  1589665266052             2   \n",
      "3  B09JS339BZ  AFQLNQNQYFWQZPJQZS6V3NZU4QBQ  1643393630220             0   \n",
      "4  B08BZ63GMJ  AFQLNQNQYFWQZPJQZS6V3NZU4QBQ  1609322563534             0   \n",
      "\n",
      "   verified_purchase                                   sentiment_scores  \\\n",
      "0               True  {'neg': 0.057, 'neu': 0.766, 'pos': 0.177, 'co...   \n",
      "1               True  {'neg': 0.0, 'neu': 0.83, 'pos': 0.17, 'compou...   \n",
      "2               True  {'neg': 0.0, 'neu': 0.215, 'pos': 0.785, 'comp...   \n",
      "3               True  {'neg': 0.0, 'neu': 1.0, 'pos': 0.0, 'compound...   \n",
      "4               True  {'neg': 0.0, 'neu': 0.192, 'pos': 0.808, 'comp...   \n",
      "\n",
      "     neg    neu    pos  compound  \n",
      "0  0.057  0.766  0.177    0.8162  \n",
      "1  0.000  0.830  0.170    0.7783  \n",
      "2  0.000  0.215  0.785    0.8070  \n",
      "3  0.000  1.000  0.000    0.0000  \n",
      "4  0.000  0.192  0.808    0.6369  \n",
      "                                                text  compound  \\\n",
      "0  This spray is really nice. It smells really go...    0.8162   \n",
      "1  This product does what I need it to do, I just...    0.7783   \n",
      "2                          Smells good, feels great!    0.8070   \n",
      "3                                     Felt synthetic    0.0000   \n",
      "4                                            Love it    0.6369   \n",
      "\n",
      "  sentiment_classification  \n",
      "0                 Positive  \n",
      "1                 Positive  \n",
      "2                 Positive  \n",
      "3                  Neutral  \n",
      "4                 Positive  \n"
     ]
    }
   ],
   "source": [
    "from vaderSentiment.vaderSentiment import SentimentIntensityAnalyzer\n",
    "\n",
    "# Initialize the analyzer\n",
    "analyzer = SentimentIntensityAnalyzer()\n",
    "\n",
    "# Sample DataFrame (replace with your actual dataset)\n",
    "data = {\n",
    "    'Id': [1, 2, 3, 4, 5],\n",
    "    'rating': [5.0, 4.0, 5.0, 1.0, 5.0],\n",
    "    'title': ['Such a lovely scent but not overpowering.', 'Works great but smells a little weird.', 'Yes!', 'Synthetic feeling', 'A+'],\n",
    "    'text': [\n",
    "        \"This spray is really nice. It smells really good, goes on really fine, and does the trick. I will say it feels like you need a lot of it though to get the texture I want. I have a lot of hair, medium thickness. I am comparing to other brands with yucky chemicals so I'm gonna stick with this. Try it!\",\n",
    "        \"This product does what I need it to do, I just wish it was odorless or had a soft coconut smell. Having my head smell like an orange coffee is offputting. (granted, I did know the smell was described but I was hoping it would be light)\",\n",
    "        \"Smells good, feels great!\",\n",
    "        \"Felt synthetic\",\n",
    "        \"Love it\"\n",
    "    ],\n",
    "    'images': [[] for _ in range(5)],\n",
    "    'asin': [\"B00YQ6X8EO\", \"B081TJ8YS3\", \"B07PNNCSP9\", \"B09JS339BZ\", \"B08BZ63GMJ\"],\n",
    "    'parent_asin': [\"B00YQ6X8EO\", \"B081TJ8YS3\", \"B097R46CSY\", \"B09JS339BZ\", \"B08BZ63GMJ\"],\n",
    "    'user_id': [\"AGKHLEW2SOWHNMFQIJGBECAF7INQ\", \"AGKHLEW2SOWHNMFQIJGBECAF7INQ\", \"AE74DYR3QUGVPZJ3P7RFWBGIX7XQ\", \"AFQLNQNQYFWQZPJQZS6V3NZU4QBQ\", \"AFQLNQNQYFWQZPJQZS6V3NZU4QBQ\"],\n",
    "    'timestamp': [1588687728923, 1588615855070, 1589665266052, 1643393630220, 1609322563534],\n",
    "    'helpful_vote': [0, 1, 2, 0, 0],\n",
    "    'verified_purchase': [True, True, True, True, True]\n",
    "}\n",
    "\n",
    "# Create DataFrame\n",
    "df = pd.DataFrame(data)\n",
    "\n",
    "# Function to apply sentiment analysis\n",
    "def get_sentiment(text):\n",
    "    return analyzer.polarity_scores(text)\n",
    "\n",
    "# Apply the sentiment analysis on the 'text' column\n",
    "df['sentiment_scores'] = df['text'].apply(get_sentiment)\n",
    "\n",
    "# Convert the sentiment scores to a DataFrame\n",
    "sentiment_df = pd.json_normalize(df['sentiment_scores'])\n",
    "\n",
    "# Combine the sentiment scores with the original DataFrame\n",
    "result_df = pd.concat([df, sentiment_df], axis=1)\n",
    "\n",
    "# Display the first few rows of the merged DataFrame\n",
    "print(result_df.head())\n",
    "\n",
    "# Optional: Add a sentiment classification column\n",
    "def classify_sentiment(compound_score):\n",
    "    if compound_score >= 0.05:\n",
    "        return 'Positive'\n",
    "    elif compound_score <= -0.05:\n",
    "        return 'Negative'\n",
    "    else:\n",
    "        return 'Neutral'\n",
    "\n",
    "result_df['sentiment_classification'] = result_df['compound'].apply(classify_sentiment)\n",
    "\n",
    "# Display the results with sentiment classification\n",
    "print(result_df[['text', 'compound', 'sentiment_classification']])"
   ]
  },
  {
   "cell_type": "code",
   "execution_count": 7,
   "metadata": {},
   "outputs": [
    {
     "name": "stdout",
     "output_type": "stream",
     "text": [
      "   Id  rating                                      title  \\\n",
      "0   1     5.0  Such a lovely scent but not overpowering.   \n",
      "1   2     4.0     Works great but smells a little weird.   \n",
      "2   3     5.0                                       Yes!   \n",
      "3   4     1.0                          Synthetic feeling   \n",
      "4   5     5.0                                         A+   \n",
      "\n",
      "                                                text    neg    neu    pos  \\\n",
      "0  This spray is really nice. It smells really go...  0.057  0.766  0.177   \n",
      "1  This product does what I need it to do, I just...  0.000  0.830  0.170   \n",
      "2                          Smells good, feels great!  0.000  0.215  0.785   \n",
      "3                                     Felt synthetic  0.000  1.000  0.000   \n",
      "4                                            Love it  0.000  0.192  0.808   \n",
      "\n",
      "   compound  \n",
      "0    0.8162  \n",
      "1    0.7783  \n",
      "2    0.8070  \n",
      "3    0.0000  \n",
      "4    0.6369  \n"
     ]
    }
   ],
   "source": [
    "# Convert the sentiment scores to a DataFrame\n",
    "sentiment_df = pd.json_normalize(df['sentiment_scores'])\n",
    "\n",
    "# Add the 'Id' column to the sentiment DataFrame\n",
    "sentiment_df['Id'] = df['Id']\n",
    "\n",
    "# Merge the sentiment scores with the original DataFrame\n",
    "result_df = pd.merge(df, sentiment_df, on='Id', how='left')\n",
    "\n",
    "# Display the first few rows of the merged DataFrame\n",
    "print(result_df[['Id', 'rating', 'title', 'text', 'neg', 'neu', 'pos', 'compound']])"
   ]
  },
  {
   "cell_type": "code",
   "execution_count": 8,
   "metadata": {},
   "outputs": [
    {
     "name": "stderr",
     "output_type": "stream",
     "text": [
      "C:\\Users\\ADMIN\\AppData\\Local\\Temp\\ipykernel_15384\\2914444169.py:8: FutureWarning: \n",
      "\n",
      "Passing `palette` without assigning `hue` is deprecated and will be removed in v0.14.0. Assign the `x` variable to `hue` and set `legend=False` for the same effect.\n",
      "\n",
      "  sns.barplot(x='Id', y='compound', data=result_df, ax=ax, palette='viridis')\n"
     ]
    },
    {
     "data": {
      "image/png": "[encoded data removed]",
      "text/plain": [
       "<Figure size 1000x600 with 1 Axes>"
      ]
     },
     "metadata": {},
     "output_type": "display_data"
    }
   ],
   "source": [
    "# Set the style of the visualization\n",
    "sns.set(style=\"whitegrid\")\n",
    "\n",
    "# Create a figure and axis\n",
    "fig, ax = plt.subplots(figsize=(10, 6))\n",
    "\n",
    "# Plot the sentiment scores\n",
    "sns.barplot(x='Id', y='compound', data=result_df, ax=ax, palette='viridis')\n",
    "\n",
    "# Set the title and labels\n",
    "ax.set_title('Compound Sentiment Scores of Product Reviews')\n",
    "ax.set_xlabel('Review ID')\n",
    "ax.set_ylabel('Compound Sentiment Score')\n",
    "\n",
    "# Show the plot\n",
    "plt.show()"
   ]
  },
  {
   "cell_type": "code",
   "execution_count": 9,
   "metadata": {},
   "outputs": [
    {
     "name": "stdout",
     "output_type": "stream",
     "text": [
      "Sentiment Scores (Negative, Neutral, Positive):\n",
      "Great product!:\n",
      "  Negative: 0.10\n",
      "  Neutral:  0.20\n",
      "  Positive: 0.70\n",
      "\n",
      "Really bad experience.:\n",
      "  Negative: 0.70\n",
      "  Neutral:  0.20\n",
      "  Positive: 0.10\n",
      "\n",
      "It was okay, nothing special.:\n",
      "  Negative: 0.20\n",
      "  Neutral:  0.60\n",
      "  Positive: 0.20\n",
      "\n",
      "I absolutely love this amazing service!:\n",
      "  Negative: 0.10\n",
      "  Neutral:  0.20\n",
      "  Positive: 0.70\n",
      "\n",
      "This is the worst thing I've ever encountered.:\n",
      "  Negative: 0.70\n",
      "  Neutral:  0.20\n",
      "  Positive: 0.10\n",
      "\n"
     ]
    }
   ],
   "source": [
    "class SimpleSentimentAnalyzer:\n",
    "    def __init__(self):\n",
    "        self.positive_words = {'great', 'excellent', 'amazing', 'love', 'happy', 'best'}\n",
    "        self.negative_words = {'bad', 'terrible', 'worst', 'hate', 'angry', 'disappointing'}\n",
    "    \n",
    "    def get_sentiment_scores(self, texts):\n",
    "        scores = []\n",
    "        for text in texts:\n",
    "            text_lower = text.lower()\n",
    "            pos_count = sum(word in text_lower for word in self.positive_words)\n",
    "            neg_count = sum(word in text_lower for word in self.negative_words)\n",
    "            \n",
    "            if pos_count > neg_count:\n",
    "                score = [0.1, 0.2, 0.7]\n",
    "            elif neg_count > pos_count:\n",
    "                score = [0.7, 0.2, 0.1]\n",
    "            else:\n",
    "                score = [0.2, 0.6, 0.2]\n",
    "            \n",
    "            scores.append(score)\n",
    "        \n",
    "        return np.array(scores)\n",
    "\n",
    "def main():\n",
    "    analyzer = SimpleSentimentAnalyzer()\n",
    "    \n",
    "    texts = [\n",
    "        \"Great product!\", \n",
    "        \"Really bad experience.\", \n",
    "        \"It was okay, nothing special.\",\n",
    "        \"I absolutely love this amazing service!\",\n",
    "        \"This is the worst thing I've ever encountered.\"\n",
    "    ]\n",
    "    \n",
    "    sentiment_scores = analyzer.get_sentiment_scores(texts)\n",
    "    \n",
    "    print(\"Sentiment Scores (Negative, Neutral, Positive):\")\n",
    "    for text, score in zip(texts, sentiment_scores):\n",
    "        print(f\"{text}:\")\n",
    "        print(f\"  Negative: {score[0]:.2f}\")\n",
    "        print(f\"  Neutral:  {score[1]:.2f}\")\n",
    "        print(f\"  Positive: {score[2]:.2f}\")\n",
    "        print()\n",
    "\n",
    "if __name__ == \"__main__\":\n",
    "    main()"
   ]
  },
  {
   "cell_type": "code",
   "execution_count": 11,
   "metadata": {},
   "outputs": [
    {
     "name": "stderr",
     "output_type": "stream",
     "text": [
      "Device set to use cpu\n"
     ]
    },
    {
     "name": "stdout",
     "output_type": "stream",
     "text": [
      "Text: I absolutely love this product!\n",
      "Sentiment Score: 1.00\n",
      "Interpretation: Positive\n",
      "\n",
      "Text: This is terrible and disappointing.\n",
      "Sentiment Score: 0.00\n",
      "Interpretation: Negative\n",
      "\n",
      "Text: It's an okay experience.\n",
      "Sentiment Score: 1.00\n",
      "Interpretation: Positive\n",
      "\n",
      "Text: Incredible performance and amazing quality!\n",
      "Sentiment Score: 1.00\n",
      "Interpretation: Positive\n",
      "\n",
      "Text: I have mixed feelings about this.\n",
      "Sentiment Score: 0.01\n",
      "Interpretation: Negative\n",
      "\n"
     ]
    }
   ],
   "source": [
    "from transformers import pipeline\n",
    "\n",
    "def analyze_sentiment(texts, model_name='distilbert-base-uncased-finetuned-sst-2-english'):\n",
    "    # Create sentiment analysis pipeline\n",
    "    classifier = pipeline('sentiment-analysis', model=model_name)\n",
    "    \n",
    "    # Process sentiments with more precise scoring\n",
    "    sentiments = []\n",
    "    for result in classifier(texts):\n",
    "        # Convert to a continuous score between 0 and 1\n",
    "        score = result['score']\n",
    "        sentiment = score if result['label'] == 'POSITIVE' else 1 - score\n",
    "        sentiments.append(sentiment)\n",
    "    \n",
    "    return sentiments\n",
    "\n",
    "def main():\n",
    "    # Sample texts with different emotional tones\n",
    "    texts = [\n",
    "        \"I absolutely love this product!\",\n",
    "        \"This is terrible and disappointing.\",\n",
    "        \"It's an okay experience.\",\n",
    "        \"Incredible performance and amazing quality!\",\n",
    "        \"I have mixed feelings about this.\"\n",
    "    ]\n",
    "    \n",
    "    # Perform sentiment analysis\n",
    "    sentiment_scores = analyze_sentiment(texts)\n",
    "    \n",
    "    # Display results\n",
    "    for text, score in zip(texts, sentiment_scores):\n",
    "        print(f\"Text: {text}\")\n",
    "        print(f\"Sentiment Score: {score:.2f}\")\n",
    "        print(f\"Interpretation: {'Positive' if score > 0.5 else 'Negative'}\\n\")\n",
    "\n",
    "if __name__ == \"__main__\":\n",
    "    main()"
   ]
  },
  {
   "cell_type": "markdown",
   "metadata": {},
   "source": [
    "Interpretation of Results\n",
    "\n",
    "BERT give a higher positive score for very enthusiastic reviews.\n",
    "\n",
    "RoBERTa has more fine-tuned sentiment recognition, especially for nuanced texts.\n",
    "\n",
    "DistilBERT offers a good balance with faster performance due to its lighter architecture."
   ]
  },
  {
   "cell_type": "code",
   "execution_count": 12,
   "metadata": {},
   "outputs": [
    {
     "name": "stdout",
     "output_type": "stream",
     "text": [
      "Sentiment Scores (Negative, Neutral, Positive):\n",
      "Text: Great product!\n",
      " Negative: 0.10\n",
      " Neutral: 0.20\n",
      " Positive: 0.70\n",
      "\n",
      "Text: Really bad experience.\n",
      " Negative: 0.70\n",
      " Neutral: 0.20\n",
      " Positive: 0.10\n",
      "\n",
      "Text: It was okay, nothing special.\n",
      " Negative: 0.20\n",
      " Neutral: 0.60\n",
      " Positive: 0.20\n",
      "\n",
      "Text: I absolutely love this amazing service!\n",
      " Negative: 0.10\n",
      " Neutral: 0.20\n",
      " Positive: 0.70\n",
      "\n",
      "Text: This is the worst thing I've ever encountered.\n",
      " Negative: 0.70\n",
      " Neutral: 0.20\n",
      " Positive: 0.10\n",
      "\n"
     ]
    }
   ],
   "source": [
    "class SimpleSentimentAnalyzer:\n",
    "    def __init__(self):\n",
    "        self.positive_words = {'great', 'excellent', 'amazing', 'love', 'happy', 'best'}\n",
    "        self.negative_words = {'bad', 'terrible', 'worst', 'hate', 'angry', 'disappointing'}\n",
    "\n",
    "    def get_sentiment_scores(self, texts):\n",
    "        scores = []\n",
    "        for text in texts:\n",
    "            text_lower = text.lower()\n",
    "            pos_count = sum(word in text_lower for word in self.positive_words)\n",
    "            neg_count = sum(word in text_lower for word in self.negative_words)\n",
    "            \n",
    "            if pos_count > neg_count:\n",
    "                score = [0.1, 0.2, 0.7]  # Negative, Neutral, Positive\n",
    "            elif neg_count > pos_count:\n",
    "                score = [0.7, 0.2, 0.1]  # Negative, Neutral, Positive\n",
    "            else:\n",
    "                score = [0.2, 0.6, 0.2]  # Negative, Neutral, Positive\n",
    "            \n",
    "            scores.append(score)\n",
    "        return np.array(scores)\n",
    "\n",
    "def main():\n",
    "    analyzer = SimpleSentimentAnalyzer()\n",
    "    texts = [\n",
    "        \"Great product!\",\n",
    "        \"Really bad experience.\",\n",
    "        \"It was okay, nothing special.\",\n",
    "        \"I absolutely love this amazing service!\",\n",
    "        \"This is the worst thing I've ever encountered.\"\n",
    "    ]\n",
    "    \n",
    "    sentiment_scores = analyzer.get_sentiment_scores(texts)\n",
    "\n",
    "    print(\"Sentiment Scores (Negative, Neutral, Positive):\")\n",
    "    for text, score in zip(texts, sentiment_scores):\n",
    "        print(f\"Text: {text}\")\n",
    "        print(f\" Negative: {score[0]:.2f}\")\n",
    "        print(f\" Neutral: {score[1]:.2f}\")\n",
    "        print(f\" Positive: {score[2]:.2f}\")\n",
    "        print()\n",
    "\n",
    "if __name__ == \"__main__\":\n",
    "    main()\n"
   ]
  },
  {
   "cell_type": "code",
   "execution_count": 17,
   "metadata": {},
   "outputs": [
    {
     "data": {
      "image/png": "[encoded data removed]",
      "text/plain": [
       "<Figure size 1200x800 with 12 Axes>"
      ]
     },
     "metadata": {},
     "output_type": "display_data"
    }
   ],
   "source": [
    "\n",
    "# Sample DataFrame (replace with your actual dataset)\n",
    "data = {\n",
    "    'Id': [1, 2, 3, 4, 5],\n",
    "    'rating': [5.0, 4.0, 5.0, 1.0, 5.0],\n",
    "    'title': ['Such a lovely scent but not overpowering.', 'Works great but smells a little weird.', 'Yes!', 'Synthetic feeling', 'A+'],\n",
    "    'text': [\n",
    "        \"This spray is really nice. It smells really good, goes on really fine, and does the trick. I will say it feels like you need a lot of it though to get the texture I want. I have a lot of hair, medium thickness. I am comparing to other brands with yucky chemicals so I'm gonna stick with this. Try it!\",\n",
    "        \"This product does what I need it to do, I just wish it was odorless or had a soft coconut smell. Having my head smell like an orange coffee is offputting. (granted, I did know the smell was described but I was hoping it would be light)\",\n",
    "        \"Smells good, feels great!\",\n",
    "        \"Felt synthetic\",\n",
    "        \"Love it\"\n",
    "    ],\n",
    "    'images': [[] for _ in range(5)],\n",
    "    'asin': [\"B00YQ6X8EO\", \"B081TJ8YS3\", \"B07PNNCSP9\", \"B09JS339BZ\", \"B08BZ63GMJ\"],\n",
    "    'parent_asin': [\"B00YQ6X8EO\", \"B081TJ8YS3\", \"B097R46CSY\", \"B09JS339BZ\", \"B08BZ63GMJ\"],\n",
    "    'user_id': [\"AGKHLEW2SOWHNMFQIJGBECAF7INQ\", \"AGKHLEW2SOWHNMFQIJGBECAF7INQ\", \"AE74DYR3QUGVPZJ3P7RFWBGIX7XQ\", \"AFQLNQNQYFWQZPJQZS6V3NZU4QBQ\", \"AFQLNQNQYFWQZPJQZS6V3NZU4QBQ\"],\n",
    "    'timestamp': [1588687728923, 1588615855070, 1589665266052, 1643393630220, 1609322563534],\n",
    "    'helpful_vote': [0, 1, 2, 0, 0],\n",
    "    'verified_purchase': [True, True, True, True, True]\n",
    "}\n",
    "df = pd.DataFrame(data)\n",
    "\n",
    "# Example sentiment scores\n",
    "bert_scores = [0.8, 0.6, 0.9, 0.2, 0.85]\n",
    "roberta_scores = [0.75, 0.65, 0.92, 0.25, 0.83]\n",
    "distilbert_scores = [0.78, 0.63, 0.88, 0.22, 0.80]\n",
    "\n",
    "# Create DataFrames with sentiment scores\n",
    "results_bert = [{'Id': i + 1, 'bert_sentiment_score': score} for i, score in enumerate(bert_scores)]\n",
    "results_roberta = [{'Id': i + 1, 'roberta_sentiment_score': score} for i, score in enumerate(roberta_scores)]\n",
    "results_distilbert = [{'Id': i + 1, 'distilbert_sentiment_score': score} for i, score in enumerate(distilbert_scores)]\n",
    "\n",
    "results_bert_df = pd.DataFrame(results_bert)\n",
    "results_roberta_df = pd.DataFrame(results_roberta)\n",
    "results_distilbert_df = pd.DataFrame(results_distilbert)\n",
    "\n",
    "# Merge sentiment scores with the original DataFrame\n",
    "results_df = df.merge(results_bert_df, how='left', on='Id') \\\n",
    "               .merge(results_roberta_df, how='left', on='Id') \\\n",
    "               .merge(results_distilbert_df, how='left', on='Id')\n",
    "\n",
    "# Perform pair plot visualization for sentiment scores\n",
    "g = sns.pairplot(data=results_df, vars=['bert_sentiment_score', 'roberta_sentiment_score', 'distilbert_sentiment_score'])\n",
    "g.fig.set_size_inches(12, 8)\n",
    "\n",
    "# Display the plot\n",
    "plt.show()\n"
   ]
  },
  {
   "cell_type": "code",
   "execution_count": 18,
   "metadata": {},
   "outputs": [
    {
     "name": "stdout",
     "output_type": "stream",
     "text": [
      "Felt synthetic\n",
      "This spray is really nice. It smells really good, goes on really fine, and does the trick. I will say it feels like you need a lot of it though to get the texture I want. I have a lot of hair, medium thickness. I am comparing to other brands with yucky chemicals so I'm gonna stick with this. Try it!\n"
     ]
    }
   ],
   "source": [
    "# Most positive BERT sentiment for Score = 1 (Negative rating)\n",
    "most_positive_bert_negative = results_df.query('rating == 1').sort_values('bert_sentiment_score', ascending=False)['text'].values[0]\n",
    "print(most_positive_bert_negative)\n",
    "\n",
    "# Most negative BERT sentiment for Score = 5 (Positive rating)\n",
    "most_negative_bert_positive = results_df.query('rating == 5').sort_values('bert_sentiment_score', ascending=True)['text'].values[0]\n",
    "print(most_negative_bert_positive)"
   ]
  },
  {
   "cell_type": "code",
   "execution_count": 19,
   "metadata": {},
   "outputs": [
    {
     "name": "stdout",
     "output_type": "stream",
     "text": [
      "Felt synthetic\n",
      "This spray is really nice. It smells really good, goes on really fine, and does the trick. I will say it feels like you need a lot of it though to get the texture I want. I have a lot of hair, medium thickness. I am comparing to other brands with yucky chemicals so I'm gonna stick with this. Try it!\n"
     ]
    }
   ],
   "source": [
    "# Most positive RoBERTa sentiment for Score = 1 (Negative rating)\n",
    "most_positive_roberta_negative = results_df.query('rating == 1').sort_values('roberta_sentiment_score', ascending=False)['text'].values[0]\n",
    "print(most_positive_roberta_negative)\n",
    "\n",
    "# Most negative RoBERTa sentiment for Score = 5 (Positive rating)\n",
    "most_negative_roberta_positive = results_df.query('rating == 5').sort_values('roberta_sentiment_score', ascending=True)['text'].values[0]\n",
    "print(most_negative_roberta_positive)"
   ]
  },
  {
   "cell_type": "code",
   "execution_count": 20,
   "metadata": {},
   "outputs": [
    {
     "name": "stdout",
     "output_type": "stream",
     "text": [
      "Felt synthetic\n",
      "This spray is really nice. It smells really good, goes on really fine, and does the trick. I will say it feels like you need a lot of it though to get the texture I want. I have a lot of hair, medium thickness. I am comparing to other brands with yucky chemicals so I'm gonna stick with this. Try it!\n"
     ]
    }
   ],
   "source": [
    "# Most positive DistilBERT sentiment for Score = 1 (Negative rating)\n",
    "most_positive_distilbert_negative = results_df.query('rating == 1').sort_values('distilbert_sentiment_score', ascending=False)['text'].values[0]\n",
    "print(most_positive_distilbert_negative)\n",
    "\n",
    "# Most negative DistilBERT sentiment for Score = 5 (Positive rating)\n",
    "most_negative_distilbert_positive = results_df.query('rating == 5').sort_values('distilbert_sentiment_score', ascending=True)['text'].values[0]\n",
    "print(most_negative_distilbert_positive)"
   ]
  },
  {
   "cell_type": "code",
   "execution_count": 21,
   "metadata": {},
   "outputs": [
    {
     "name": "stdout",
     "output_type": "stream",
     "text": [
      "Felt synthetic\n"
     ]
    }
   ],
   "source": [
    "highest_sentiment_negative = results_df.query('rating == 1').sort_values(['bert_sentiment_score', 'roberta_sentiment_score', 'distilbert_sentiment_score'], ascending=False).iloc[0]['text']\n",
    "print(highest_sentiment_negative)"
   ]
  },
  {
   "cell_type": "code",
   "execution_count": 23,
   "metadata": {},
   "outputs": [
    {
     "name": "stdout",
     "output_type": "stream",
     "text": [
      "This spray is really nice. It smells really good, goes on really fine, and does the trick. I will say it feels like you need a lot of it though to get the texture I want. I have a lot of hair, medium thickness. I am comparing to other brands with yucky chemicals so I'm gonna stick with this. Try it!\n"
     ]
    }
   ],
   "source": [
    "lowest_sentiment_positive = results_df.query('rating == 5').sort_values(['bert_sentiment_score', 'roberta_sentiment_score', 'distilbert_sentiment_score'], ascending=True).iloc[0]['text']\n",
    "print(lowest_sentiment_positive)"
   ]
  }
 ],
 "metadata": {
  "kernelspec": {
   "display_name": "base",
   "language": "python",
   "name": "python3"
  },
  "language_info": {
   "codemirror_mode": {
    "name": "ipython",
    "version": 3
   },
   "file_extension": ".py",
   "mimetype": "text/x-python",
   "name": "python",
   "nbconvert_exporter": "python",
   "pygments_lexer": "ipython3",
   "version": "3.12.3"
  }
 },
 "nbformat": 4,
 "nbformat_minor": 2
}
